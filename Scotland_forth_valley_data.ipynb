{
 "cells": [
  {
   "cell_type": "code",
   "execution_count": null,
   "metadata": {},
   "outputs": [],
   "source": [
    "# Dependencies\n",
    "# conda create -n SEPA_env\n",
    "# conda activate SEPA_env\n",
    "# pip install kiwis-pie jupyterlab geopandas folium \n",
    "from datetime import date\n",
    "from kiwis_pie import KIWIS\n",
    "import geopandas as gp\n",
    "import folium\n",
    "import matplotlib.pyplot as plt"
   ]
  },
  {
   "cell_type": "code",
   "execution_count": null,
   "metadata": {},
   "outputs": [],
   "source": [
    "# Make initial connection using base API address\n",
    "k = KIWIS('https://timeseries.sepa.org.uk/KiWIS/KiWIS')"
   ]
  },
  {
   "cell_type": "code",
   "execution_count": null,
   "metadata": {},
   "outputs": [],
   "source": [
    "file_location = 'C:\\\\Users\\\\crs2\\\\Desktop\\\\SEPA_API_tests\\\\SEPA_KISTER_API_AV\\\\forth_catchment.geojson'\n",
    "rio = gp.read_file(file_location)"
   ]
  },
  {
   "cell_type": "code",
   "execution_count": null,
   "metadata": {},
   "outputs": [],
   "source": [
    "rio.plot()"
   ]
  },
  {
   "cell_type": "code",
   "execution_count": null,
   "metadata": {},
   "outputs": [],
   "source": [
    "# List of SEPA stations\n",
    "station_list = k.get_station_list()"
   ]
  },
  {
   "cell_type": "code",
   "execution_count": null,
   "metadata": {},
   "outputs": [],
   "source": [
    "station_list"
   ]
  },
  {
   "cell_type": "code",
   "execution_count": null,
   "metadata": {},
   "outputs": [],
   "source": [
    "# get rid of stations without lat lon\n",
    "station_list = station_list.loc[station_list['station_latitude'] != '',]\n",
    "\n",
    "# Turn stations into geopandas data frame\n",
    "station_list = gp.GeoDataFrame(\n",
    "    station_list, geometry=gp.points_from_xy(station_list.station_longitude, station_list.station_latitude))\n",
    "station_list = station_list.set_crs(epsg=4326)"
   ]
  },
  {
   "cell_type": "code",
   "execution_count": null,
   "metadata": {},
   "outputs": [],
   "source": [
    "# Spatially join with region of interest using a point in polygon \n",
    "rio_stations = gp.sjoin(station_list,rio)\n",
    "# Drop nuisance columns\n",
    "rio_stations = rio_stations.drop(columns=['index_right','fid'])"
   ]
  },
  {
   "cell_type": "code",
   "execution_count": null,
   "metadata": {},
   "outputs": [],
   "source": [
    "# Plot 10 examples of stations within the Forth\n",
    "rio_stations.head(70)"
   ]
  },
  {
   "cell_type": "code",
   "execution_count": null,
   "metadata": {},
   "outputs": [],
   "source": [
    "# Plot\n",
    "# base = station_list.plot(marker='o', color='blue', markersize=1,figsize=(10,10))\n",
    "# base = rio.plot(ax=base, color='#ffffff00', edgecolor='black')\n",
    "# rio_stations.plot(ax=base, marker='*', color='red', markersize=6)"
   ]
  },
  {
   "attachments": {},
   "cell_type": "markdown",
   "metadata": {},
   "source": [
    "### Plot locations of stations"
   ]
  },
  {
   "cell_type": "code",
   "execution_count": null,
   "metadata": {},
   "outputs": [],
   "source": [
    "# create base map\n",
    "map = folium.Map(location=[56.015991, -3.481558], zoom_start=9, control_scale=True)\n",
    "folium.GeoJson(file_location, name=\"geojson\").add_to(map)\n",
    "# iterate over stations and plot locations with markers\n",
    "for index, location_info in rio_stations.iterrows():\n",
    "    folium.Marker([location_info[\"station_latitude\"], location_info[\"station_longitude\"]], popup=location_info[\"station_name\"]).add_to(map)\n",
    "map"
   ]
  },
  {
   "attachments": {},
   "cell_type": "markdown",
   "metadata": {},
   "source": [
    "### List of available variables"
   ]
  },
  {
   "cell_type": "code",
   "execution_count": null,
   "metadata": {},
   "outputs": [],
   "source": [
    "# station parameters 'Flow', 'Rain', 'Level'\n",
    "parameters_list = k.get_parameter_list(station_id = rio_stations.station_id.values)\n",
    "# List all relevant parameters\n",
    "parameters_list['stationparameter_name'].unique().tolist()"
   ]
  },
  {
   "attachments": {},
   "cell_type": "markdown",
   "metadata": {},
   "source": [
    "### Filter by river level and plot"
   ]
  },
  {
   "cell_type": "code",
   "execution_count": null,
   "metadata": {},
   "outputs": [],
   "source": [
    "# We are interested in just water level for this exercise so return only those results\n",
    "parameters_list = k.get_parameter_list(station_id = rio_stations.station_id.values,stationparameter_name='Level')\n",
    "print(parameters_list.shape)\n",
    "parameters_list.head()"
   ]
  },
  {
   "cell_type": "code",
   "execution_count": null,
   "metadata": {
    "scrolled": false
   },
   "outputs": [],
   "source": [
    "# Select only station data for relevant ids within the forth\n",
    "rio_stations_par = rio_stations.loc[rio_stations['station_id'].isin(parameters_list['station_id'])]\n",
    "#rio_stations_par.to_excel(\"C:\\\\Users\\\\crs2\\\\Desktop\\\\SEPA_API_tests\\\\Level.xlsx\")\n",
    "# plot\n",
    "map = folium.Map(location=[56.015991, -3.481558], zoom_start=9, control_scale=True)\n",
    "# iterate over stations and plot locations with markers\n",
    "for index, location_info in rio_stations_par.iterrows():\n",
    "    folium.Marker([location_info[\"station_latitude\"], location_info[\"station_longitude\"]], popup=location_info[\"station_name\"]).add_to(map)\n",
    "map"
   ]
  },
  {
   "attachments": {},
   "cell_type": "markdown",
   "metadata": {},
   "source": [
    "### Filter stations that measure rainfall and plot"
   ]
  },
  {
   "cell_type": "code",
   "execution_count": null,
   "metadata": {},
   "outputs": [],
   "source": [
    "# We are interested in just water level for this exercise so return only those results\n",
    "parameters_list = k.get_parameter_list(station_id = rio_stations.station_id.values,stationparameter_name='Rain')\n",
    "# Select only station data for relevant ids within the forth\n",
    "rio_stations_par = rio_stations.loc[rio_stations['station_id'].isin(parameters_list['station_id'])]\n",
    "# plot\n",
    "map = folium.Map(location=[56.015991, -3.481558], zoom_start=9, control_scale=True)\n",
    "# iterate over stations and plot locations with markers\n",
    "for index, location_info in rio_stations_par.iterrows():\n",
    "    folium.Marker([location_info[\"station_latitude\"], location_info[\"station_longitude\"]], popup=location_info[\"station_name\"]).add_to(map)\n",
    "map"
   ]
  },
  {
   "attachments": {},
   "cell_type": "markdown",
   "metadata": {},
   "source": [
    "### Tidal Level"
   ]
  },
  {
   "cell_type": "code",
   "execution_count": null,
   "metadata": {},
   "outputs": [],
   "source": [
    "# We are interested in just water level for this exercise so return only those results\n",
    "parameters_list = k.get_parameter_list(station_id = rio_stations.station_id.values,stationparameter_name='TidalLevel')\n",
    "# Select only station data for relevant ids within the forth\n",
    "rio_stations_par = rio_stations.loc[rio_stations['station_id'].isin(parameters_list['station_id'])]\n",
    "# plot\n",
    "map = folium.Map(location=[56.015991, -3.481558], zoom_start=9, control_scale=True)\n",
    "# iterate over stations and plot locations with markers\n",
    "for index, location_info in rio_stations_par.iterrows():\n",
    "    folium.Marker([location_info[\"station_latitude\"], location_info[\"station_longitude\"]], popup=location_info[\"station_name\"]).add_to(map)\n",
    "map"
   ]
  },
  {
   "attachments": {},
   "cell_type": "markdown",
   "metadata": {},
   "source": [
    "### Ground water level"
   ]
  },
  {
   "cell_type": "code",
   "execution_count": null,
   "metadata": {},
   "outputs": [],
   "source": [
    "# We are interested in just water level for this exercise so return only those results\n",
    "parameters_list = k.get_parameter_list(station_id = rio_stations.station_id.values,stationparameter_name='GroundwaterLevel')\n",
    "# Select only station data for relevant ids within the forth\n",
    "rio_stations_par = rio_stations.loc[rio_stations['station_id'].isin(parameters_list['station_id'])]\n",
    "# plot\n",
    "map = folium.Map(location=[56.015991, -3.481558], zoom_start=9, control_scale=True)\n",
    "# iterate over stations and plot locations with markers\n",
    "for index, location_info in rio_stations_par.iterrows():\n",
    "    folium.Marker([location_info[\"station_latitude\"], location_info[\"station_longitude\"]], popup=location_info[\"station_name\"]).add_to(map)\n",
    "map"
   ]
  },
  {
   "attachments": {},
   "cell_type": "markdown",
   "metadata": {},
   "source": [
    "### Explore which data we can get for each variable measured"
   ]
  },
  {
   "cell_type": "code",
   "execution_count": null,
   "metadata": {},
   "outputs": [],
   "source": [
    "def get_available_time_series(stationparameter_name):\n",
    "    # Check out the different time series interval options for a specific station parameter names\n",
    "    parameters_list =k.get_parameter_list(station_id = rio_stations.station_id.values,stationparameter_name=stationparameter_name)\n",
    "    # Select only station data for relevant ids within the forth\n",
    "    rio_stations_par = rio_stations.loc[rio_stations['station_id'].isin(parameters_list['station_id'])]\n",
    "    time_series_options = k.get_timeseries_list(station_id = rio_stations_par.station_id,stationparameter_name=stationparameter_name)['ts_name'].unique().tolist()\n",
    "    return(time_series_options)"
   ]
  },
  {
   "cell_type": "code",
   "execution_count": null,
   "metadata": {},
   "outputs": [],
   "source": [
    "stationparameter_name = 'Level'\n",
    "get_available_time_series(stationparameter_name)"
   ]
  },
  {
   "cell_type": "code",
   "execution_count": null,
   "metadata": {},
   "outputs": [],
   "source": [
    "stationparameter_name = 'Rain'\n",
    "get_available_time_series(stationparameter_name)"
   ]
  },
  {
   "cell_type": "code",
   "execution_count": null,
   "metadata": {},
   "outputs": [],
   "source": [
    "stationparameter_name = 'Flow'\n",
    "get_available_time_series(stationparameter_name)"
   ]
  },
  {
   "cell_type": "code",
   "execution_count": null,
   "metadata": {},
   "outputs": [],
   "source": [
    "stationparameter_name = 'TidalLevel'\n",
    "get_available_time_series(stationparameter_name)"
   ]
  },
  {
   "cell_type": "code",
   "execution_count": null,
   "metadata": {},
   "outputs": [],
   "source": [
    "stationparameter_name = 'GroundwaterLevel'\n",
    "get_available_time_series(stationparameter_name)"
   ]
  },
  {
   "cell_type": "code",
   "execution_count": null,
   "metadata": {},
   "outputs": [],
   "source": [
    "# # Look at the documentation for defining returned column headers https://kiwis-pie.readthedocs.io/en/latest/api/kiwis_pie.html#module-kiwis_pie.kiwis\n",
    "# headers=['station_name','station_no','station_id','ts_id','ts_name','parametertype_id','parametertype_name',\n",
    "#          'stationparameter_name','stationparameter_longname','ts_density','ts_unitname','ts_unitsymbol','coverage']\n",
    "\n",
    "# # return ts ids for stations, parameters and time series interval options selected\n",
    "# #ts_frame = k.get_timeseries_list(station_id = rio_stations_par.station_id, stationparameter_name='Level',ts_name='Day.Mean',return_fields=headers)\n",
    "# ts_frame = k.get_timeseries_list(station_id = rio_stations_par.station_id, stationparameter_name='Rain',ts_name='Day.Mean',return_fields=headers)\n",
    "\n",
    "# # Just to check there are 50 time series datasets available for the stations, parameters and time series interval options selected\n",
    "# print('Stations available for this variable: '+str(ts_frame.shape[0]))\n",
    "\n",
    "# # Using Callander as demonstrator return ts_id of interest\n",
    "# ts_of_interest = ts_frame.loc[ts_frame['station_name'] == 'Callander']['ts_id'].values[0] # time series ID\n",
    "# # Get time series data\n",
    "# timeseries_dataset = k.get_timeseries_values(ts_id = ts_of_interest, to = date(2022,5,31), **{'from': date(2018,1,1)})\n",
    "\n",
    "# # Plot data - you can automate the addition of labels from metadata  \n",
    "# ax = timeseries_dataset.plot(title='River water level Callander',figsize=(16,10))\n",
    "# ax.set(xlabel=\"Date\", ylabel=\"River Water level (m)\")"
   ]
  },
  {
   "attachments": {},
   "cell_type": "markdown",
   "metadata": {},
   "source": [
    "### Get time series data for a given variable of a given station"
   ]
  },
  {
   "cell_type": "code",
   "execution_count": null,
   "metadata": {},
   "outputs": [],
   "source": [
    "rio_stations"
   ]
  },
  {
   "cell_type": "code",
   "execution_count": null,
   "metadata": {},
   "outputs": [],
   "source": [
    "def get_SEPA_time_series(headers,parameter_name,ts_type,station,start,end):\n",
    "    # Filter stations that measure parameter_name\n",
    "    parameters_list =k.get_parameter_list(station_id = rio_stations.station_id.values,stationparameter_name=parameter_name)\n",
    "    # Select only station data within the forth\n",
    "    rio_stations_par = rio_stations.loc[rio_stations['station_id'].isin(parameters_list['station_id'])]\n",
    "    # return timeseries 'ts_type' for parameter 'parameter_name' and time series interval options selected\n",
    "    ts_frame = k.get_timeseries_list(station_id = rio_stations_par.station_id, stationparameter_name=parameter_name,ts_name=ts_type,return_fields=headers)\n",
    "\n",
    "    # check No. of time series datasets available for the stations, parameters and time series interval options selected\n",
    "    print('Stations available for '+parameter_name+': '+str(ts_frame.shape[0]))\n",
    "\n",
    "    # filter dataframe by station name\n",
    "    ts_of_interest = ts_frame.loc[ts_frame['station_name'] == station]['ts_id'].values[0] # time series ID\n",
    "    # Get time series data\n",
    "    timeseries_dataset = k.get_timeseries_values(ts_id = ts_of_interest, to = end, **{'from': start})\n",
    "    return(timeseries_dataset)"
   ]
  },
  {
   "cell_type": "code",
   "execution_count": null,
   "metadata": {},
   "outputs": [],
   "source": [
    "# Plot in a separate window\n",
    "#%matplotlib qt"
   ]
  },
  {
   "cell_type": "code",
   "execution_count": null,
   "metadata": {},
   "outputs": [],
   "source": [
    "# Look at the documentation for defining returned column headers https://kiwis-pie.readthedocs.io/en/latest/api/kiwis_pie.html#module-kiwis_pie.kiwis\n",
    "headers=['station_name','station_no','station_id','ts_id','ts_name','parametertype_id','parametertype_name',\n",
    "         'stationparameter_name','stationparameter_longname','ts_density','ts_unitname','ts_unitsymbol','coverage']\n",
    "\n",
    "station = 'Gargunnock'# \n",
    "#station = 'Strathyre'\n",
    "#station = 'Craigforth'\n",
    "ts_type = 'Day.Mean'\n",
    "start = date(2015,10,1)\n",
    "end=date.today()#date(2022,9,13) \n",
    "\n",
    "parameter_name = 'Level'\n",
    "level_time_series = get_SEPA_time_series(headers,parameter_name,ts_type,station,start,end)\n",
    "\n",
    "fig,((ax,ax1))=plt.subplots(nrows=2,ncols=1,sharex=True,figsize=(18,10))\n",
    "level_time_series.plot(ax=ax,style=\"-o\")\n",
    "ax.set_title(parameter_name+' - '+station)\n",
    "ax.set(ylabel=\"River Water level (m)\")\n",
    "ax.grid(True)\n",
    "#station = 'Westwood Farm Lane'\n",
    "#station='Sterling Mills Gauging Station'\n",
    "#station = 'Bridge of Teith'\n",
    "#station = 'Glenochil'\n",
    "#parameter_name ='Flow' #\n",
    "#parameter_name ='Rain' #\n",
    "#ts_type = 'Day.Total'\n",
    "rain_time_series = get_SEPA_time_series(headers,parameter_name,ts_type,station,start,end)\n",
    "\n",
    "rain_time_series.plot(ax=ax1,style=\"-o\")\n",
    "ax1.set_title(parameter_name+' - '+station)\n",
    "#ax1.set(xlabel=\"Date\", ylabel=\"Rainfall\")\n",
    "ax1.set(ylabel=\"River Water level (m)\")\n",
    "ax1.grid(True)\n",
    "plt.tight_layout()"
   ]
  },
  {
   "cell_type": "code",
   "execution_count": null,
   "metadata": {},
   "outputs": [],
   "source": [
    "import pandas as pd\n",
    "pd.options.display.max_rows = 2000 #Changes the number of rows diplayed (default is 60)\n",
    "rain_time_series.head(2000)"
   ]
  },
  {
   "cell_type": "code",
   "execution_count": null,
   "metadata": {},
   "outputs": [],
   "source": [
    "fig,ax1=plt.subplots()\n",
    "ax1.scatter(x=level_time_series,y=rain_time_series,c='DarkBlue')\n",
    "ax1.set(xlabel=\"River level (m)\", ylabel=\"River flow\")\n",
    "plt.title('River level vs river flow')"
   ]
  },
  {
   "cell_type": "code",
   "execution_count": null,
   "metadata": {},
   "outputs": [],
   "source": [
    "g = rain_time_series.groupby(pd.Grouper(freq=\"M\")).median()\n",
    "g.plot.bar(figsize=(18,9))"
   ]
  },
  {
   "attachments": {},
   "cell_type": "markdown",
   "metadata": {},
   "source": [
    "### Driest month"
   ]
  },
  {
   "cell_type": "code",
   "execution_count": null,
   "metadata": {},
   "outputs": [],
   "source": [
    "g[g.Value==g.min()[0]]"
   ]
  },
  {
   "cell_type": "code",
   "execution_count": null,
   "metadata": {},
   "outputs": [],
   "source": [
    "rain_time_series.median()"
   ]
  },
  {
   "cell_type": "code",
   "execution_count": null,
   "metadata": {},
   "outputs": [],
   "source": []
  },
  {
   "cell_type": "code",
   "execution_count": null,
   "metadata": {},
   "outputs": [],
   "source": [
    "#rain_time_series['Value']\n",
    "rain_time_series[rain_time_series.Value < 0.8]"
   ]
  },
  {
   "cell_type": "code",
   "execution_count": null,
   "metadata": {},
   "outputs": [],
   "source": [
    "station_name = 'Bridge of Allan'\n",
    "parameters_available_by_station_name = k.get_parameter_list(station_name = station_name)\n",
    "#parameters_available_by_station_name['stationparameter_name'].unique().tolist()\n",
    "parameters_available_by_station_name"
   ]
  },
  {
   "cell_type": "code",
   "execution_count": null,
   "metadata": {},
   "outputs": [],
   "source": [
    "station_name='Gargunnock'\n",
    "parameters_available_by_station_name = k.get_parameter_list(station_name = station_name)\n",
    "#parameters_available_by_station_name['stationparameter_name'].unique().tolist()\n",
    "parameters_available_by_station_name"
   ]
  },
  {
   "cell_type": "code",
   "execution_count": null,
   "metadata": {},
   "outputs": [],
   "source": [
    "station_name='Callander'\n",
    "parameters_available_by_station_name = k.get_parameter_list(station_name = station_name)\n",
    "#parameters_available_by_station_name['stationparameter_name'].unique().tolist()\n",
    "parameters_available_by_station_name"
   ]
  },
  {
   "cell_type": "code",
   "execution_count": null,
   "metadata": {},
   "outputs": [],
   "source": [
    "station_name='Strathyre'\n",
    "parameters_available_by_station_name = k.get_parameter_list(station_name = station_name)\n",
    "#parameters_available_by_station_name['stationparameter_name'].unique().tolist()\n",
    "parameters_available_by_station_name"
   ]
  },
  {
   "cell_type": "code",
   "execution_count": null,
   "metadata": {},
   "outputs": [],
   "source": [
    "station_name='Musselburgh Tidal'\n",
    "parameters_available_by_station_name = k.get_parameter_list(station_name = station_name)\n",
    "#parameters_available_by_station_name['stationparameter_name'].unique().tolist()\n",
    "parameters_available_by_station_name"
   ]
  },
  {
   "cell_type": "code",
   "execution_count": null,
   "metadata": {},
   "outputs": [],
   "source": [
    "station_name='Glenochil'\n",
    "parameters_available_by_station_name = k.get_parameter_list(station_name = station_name)\n",
    "#parameters_available_by_station_name['stationparameter_name'].unique().tolist()\n",
    "parameters_available_by_station_name"
   ]
  },
  {
   "cell_type": "code",
   "execution_count": null,
   "metadata": {},
   "outputs": [],
   "source": [
    "station_name='Westwood Farm Lane'\n",
    "parameters_available_by_station_name = k.get_parameter_list(station_name = station_name)\n",
    "#parameters_available_by_station_name['stationparameter_name'].unique().tolist()\n",
    "parameters_available_by_station_name"
   ]
  },
  {
   "cell_type": "code",
   "execution_count": null,
   "metadata": {},
   "outputs": [],
   "source": [
    "station_name='Sterling Mills Gauging Station'\n",
    "parameters_available_by_station_name = k.get_parameter_list(station_name = station_name)\n",
    "#parameters_available_by_station_name['stationparameter_name'].unique().tolist()\n",
    "parameters_available_by_station_name"
   ]
  },
  {
   "cell_type": "code",
   "execution_count": null,
   "metadata": {},
   "outputs": [],
   "source": [
    "station_name='Bridge of Teith'\n",
    "parameters_available_by_station_name = k.get_parameter_list(station_name = station_name)\n",
    "#parameters_available_by_station_name['stationparameter_name'].unique().tolist()\n",
    "parameters_available_by_station_name\n"
   ]
  },
  {
   "cell_type": "code",
   "execution_count": null,
   "metadata": {},
   "outputs": [],
   "source": [
    "station_name='craigforth'\n",
    "parameters_available_by_station_name = k.get_parameter_list(station_name = station_name)\n",
    "#parameters_available_by_station_name['stationparameter_name'].unique().tolist()\n",
    "parameters_available_by_station_name"
   ]
  },
  {
   "cell_type": "code",
   "execution_count": null,
   "metadata": {},
   "outputs": [],
   "source": []
  }
 ],
 "metadata": {
  "interpreter": {
   "hash": "8cb67622fd3e024a9155305f1f3e90de7280fe690f902ff1b9cf0f07927beaa2"
  },
  "kernelspec": {
   "display_name": "Python 3 (ipykernel)",
   "language": "python",
   "name": "python3"
  },
  "language_info": {
   "codemirror_mode": {
    "name": "ipython",
    "version": 3
   },
   "file_extension": ".py",
   "mimetype": "text/x-python",
   "name": "python",
   "nbconvert_exporter": "python",
   "pygments_lexer": "ipython3",
   "version": "3.11.3"
  }
 },
 "nbformat": 4,
 "nbformat_minor": 2
}
